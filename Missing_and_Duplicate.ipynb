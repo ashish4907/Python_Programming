{
 "cells": [
  {
   "cell_type": "code",
   "execution_count": 1,
   "id": "30cbbfd5",
   "metadata": {},
   "outputs": [],
   "source": [
    "l = [1,2,3,4,5,6,7,7,9,10]"
   ]
  },
  {
   "cell_type": "code",
   "execution_count": 38,
   "id": "20ab8280",
   "metadata": {},
   "outputs": [
    {
     "name": "stdout",
     "output_type": "stream",
     "text": [
      "[7, 7]\n",
      "7\n"
     ]
    }
   ],
   "source": [
    "# Duplicate Value\n",
    "print(list([x for x in l if l.count(x)>1]))\n",
    "print(int(list([x for x in l if l.count(x)>1])[0]))"
   ]
  },
  {
   "cell_type": "code",
   "execution_count": 61,
   "id": "a2d7a15f",
   "metadata": {},
   "outputs": [
    {
     "data": {
      "text/plain": [
       "'{8}'"
      ]
     },
     "execution_count": 61,
     "metadata": {},
     "output_type": "execute_result"
    }
   ],
   "source": [
    "str(set(range(1,11))-set(l))"
   ]
  },
  {
   "cell_type": "code",
   "execution_count": 64,
   "id": "9616585d",
   "metadata": {},
   "outputs": [
    {
     "name": "stdout",
     "output_type": "stream",
     "text": [
      "8\n"
     ]
    }
   ],
   "source": [
    "# Missing Value\n",
    "print(int(str(set(range(1,11))-set(l)).replace('{','').replace('}','')))"
   ]
  },
  {
   "cell_type": "code",
   "execution_count": null,
   "id": "80862657",
   "metadata": {},
   "outputs": [],
   "source": []
  }
 ],
 "metadata": {
  "kernelspec": {
   "display_name": "Python 3",
   "language": "python",
   "name": "python3"
  },
  "language_info": {
   "codemirror_mode": {
    "name": "ipython",
    "version": 3
   },
   "file_extension": ".py",
   "mimetype": "text/x-python",
   "name": "python",
   "nbconvert_exporter": "python",
   "pygments_lexer": "ipython3",
   "version": "3.8.8"
  }
 },
 "nbformat": 4,
 "nbformat_minor": 5
}
